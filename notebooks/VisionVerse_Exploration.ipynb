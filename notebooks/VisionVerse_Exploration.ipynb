{
 "cells": [
  {
   "metadata": {},
   "cell_type": "markdown",
   "source": "# VisionVerse Exploration",
   "id": "8709b0c540689718"
  },
  {
   "metadata": {},
   "cell_type": "markdown",
   "source": "This notebook demonstrates the basic functionality of the VisionVerse project, including image captioning, classification, and generation.\n",
   "id": "b73edcab1e58ff96"
  },
  {
   "metadata": {},
   "cell_type": "code",
   "outputs": [],
   "execution_count": null,
   "source": [
    "import sys\",\n",
    "    \"sys.path.append('../')\n",
    "\n",
    "\"import torch\",\n",
    "    \"from PIL import Image\",\n",
    "    \"import matplotlib.pyplot as plt\",\n",
    "    \"from src.captioning.model import CNNtoRNN\",\n",
    "    \"from src.classification.model import CNNModel\",\n",
    "    \"from src.generation.generator import generate_image\",\n",
    "    \"from src.captioning.utils import load_vocabulary\",\n",
    "    \"from src.classification.utils import load_category_names, process_image\""
   ],
   "id": "3d4260066bfd0e1"
  },
  {
   "metadata": {},
   "cell_type": "markdown",
   "source": "## 1. Image Captioning",
   "id": "760fc7b44734da99"
  },
  {
   "metadata": {},
   "cell_type": "code",
   "outputs": [],
   "execution_count": null,
   "source": [
    "\"# Load the captioning model\",\n",
    "    \"vocab = load_vocabulary('data/vocab.json')\",\n",
    "    \"caption_model = CNNtoRNN(CAPTION_EMBED_SIZE, CAPTION_HIDDEN_SIZE, len(vocab), CAPTION_NUM_LAYERS).to(DEVICE)\"\n",
    "    \"caption_model.load_state_dict(torch.load('checkpoints/caption_model.pth')\n",
    "    \n",
    "    \"caption_model.eval()\",\n",
    "\n",
    "    \"# Function to generate caption\",\n",
    "    \"def generate_caption(image_path):\",\n",
    "    \"    image = process_image(image_path).to(DEVICE)\",\n",
    "    \"    caption = caption_model.caption_image(image, vocab)\",\n",
    "    \"    return ' '.join(caption)\",\n",
    "  \n",
    "    \"# Test the captioning model\",\n",
    "    \"test_image_path = 'data/test_image.jpg'\",\n",
    "    \"caption = generate_caption(test_image_path)\",\n",
    "   \n",
    "    \"plt.imshow(Image.open(test_image_path))\",\n",
    "    \"plt.axis('off')\",\n",
    "    \"plt.title(f\\\"Caption: {caption}\\\")\",\n",
    "    \"plt.show()\""
   ],
   "id": "c9cd72c558e4884e"
  },
  {
   "metadata": {},
   "cell_type": "markdown",
   "source": "## 2. Image Classification",
   "id": "56946d9e80f7564b"
  },
  {
   "metadata": {},
   "cell_type": "code",
   "outputs": [],
   "execution_count": null,
   "source": [
    "\"# Load the classification model\",\n",
    "    \"categories = load_category_names('data/flower_labels.json')\",\n",
    "    \"classify_model = CNNModel(CLASSIFICATION_ARCH, CLASSIFICATION_HIDDEN_UNITS, len(categories)).to(DEVICE)\",\n",
    "    \"classify_model.load_state_dict(torch.load('checkpoints/classification_model.pth'))\",\n",
    "    \"classify_model.eval()\",\n",
    "  \n",
    "    \"# Function to classify image\",\n",
    "    \"def classify_image(image_path):\",\n",
    "    \"    image = process_image(image_path).to(DEVICE)\",\n",
    "    \"    with torch.no_grad():\",\n",
    "    \"        output = classify_model(image)\",\n",
    "    \"        _, predicted = torch.max(output, 1)\",\n",
    "    \"    return categories[str(predicted.item() + 1)]\",\n",
    " \n",
    "    \"# Test the classification model\",\n",
    "    \"test_image_path = 'data/test_flower.jpg'\",\n",
    "    \"classification = classify_image(test_image_path)\",\n",
    "    \n",
    "    \"plt.imshow(Image.open(test_image_path))\",\n",
    "    \"plt.axis('off')\",\n",
    "    \"plt.title(f\\\"Classification: {classification}\\\")\",\n",
    "    \"plt.show()\""
   ],
   "id": "37508ddf20aaf25c"
  },
  {
   "metadata": {},
   "cell_type": "markdown",
   "source": "## 3. Image Generation",
   "id": "8cd95f1d8b064670"
  },
  {
   "metadata": {},
   "cell_type": "markdown",
   "source": "",
   "id": "1cfc65487b52cf09"
  },
  {
   "metadata": {},
   "cell_type": "code",
   "outputs": [],
   "execution_count": null,
   "source": [
    "\"# Generate an image from text\",\n",
    "    \"text_prompt = \\\"A serene lake surrounded by mountains at sunset\\\"\",\n",
    "    \"generated_image = generate_image(text_prompt, iterations=GENERATION_ITERATIONS, lr=GENERATION_LEARNING_RATE)\",\n",
    "    \n",
    "    \"plt.imshow(generated_image)\",\n",
    "    \"plt.axis('off')\",\n",
    "    \"plt.title(f\\\"Generated from: {text_prompt}\\\")\",\n",
    "    \"plt.show()\""
   ],
   "id": "32ad6c64edbd2c33"
  }
 ],
 "metadata": {
  "kernelspec": {
   "display_name": "Python 3",
   "language": "python",
   "name": "python3"
  },
  "language_info": {
   "codemirror_mode": {
    "name": "ipython",
    "version": 2
   },
   "file_extension": ".py",
   "mimetype": "text/x-python",
   "name": "python",
   "nbconvert_exporter": "python",
   "pygments_lexer": "ipython2",
   "version": "2.7.6"
  }
 },
 "nbformat": 4,
 "nbformat_minor": 5
}
